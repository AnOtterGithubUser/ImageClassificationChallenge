{
 "cells": [
  {
   "cell_type": "code",
   "execution_count": null,
   "metadata": {
    "collapsed": true
   },
   "outputs": [],
   "source": [
    "%matplotlib inline\n",
    "import cv2\n",
    "import numpy as np\n",
    "import matplotlib.pyplot as plt\n",
    "import pandas as pd\n",
    "\n",
    "print 'OpenCV Version (should be 3.1.0, with nonfree packages installed, for this tutorial):'\n",
    "print cv2.__version__\n",
    "\n",
    "IMAGE_SIZE = 32\n",
    "CHANEL_SIZE = IMAGE_SIZE * IMAGE_SIZE\n",
    "\n",
    "X = pd.read_csv('../data/Xtr.csv', header=None)\n",
    "X = X.as_matrix()\n",
    "X = X[:, 0:-1]\n",
    "\n",
    "Y = pd.read_csv('../data/Ytr.csv')\n",
    "\n",
    "#%% \n",
    "index = 100\n",
    "image1 = X[index,:]\n",
    "image1 = image1.reshape((3, CHANEL_SIZE))\n",
    "image1 = image1.reshape((3, IMAGE_SIZE, IMAGE_SIZE))\n",
    "image1 = image1.swapaxes(0,1)\n",
    "image1 = image1.swapaxes(1,2)\n",
    "im_gray = np.dot(image1[:,:,:3],[0.299, 0.587, 0.114])\n",
    "\n",
    "plt.figure()\n",
    "plt.imshow(image1)\n",
    "plt.figure()\n",
    "plt.imshow(im_gray, cmap='gray')"
   ]
  }
 ],
 "metadata": {
  "kernelspec": {
   "display_name": "Python 2",
   "language": "python",
   "name": "python2"
  },
  "language_info": {
   "codemirror_mode": {
    "name": "ipython",
    "version": 2
   },
   "file_extension": ".py",
   "mimetype": "text/x-python",
   "name": "python",
   "nbconvert_exporter": "python",
   "pygments_lexer": "ipython2",
   "version": "2.7.11"
  }
 },
 "nbformat": 4,
 "nbformat_minor": 0
}
